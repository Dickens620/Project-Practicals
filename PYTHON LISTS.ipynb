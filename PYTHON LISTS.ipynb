{
 "cells": [
  {
   "cell_type": "code",
   "execution_count": 2,
   "metadata": {},
   "outputs": [
    {
     "name": "stdout",
     "output_type": "stream",
     "text": [
      "Print Helloworld\n"
     ]
    }
   ],
   "source": [
    "print(\" Helloworld\")"
   ]
  },
  {
   "cell_type": "code",
   "execution_count": 9,
   "metadata": {},
   "outputs": [
    {
     "name": "stdout",
     "output_type": "stream",
     "text": [
      "<class 'float'>\n",
      "<class 'int'>\n"
     ]
    }
   ],
   "source": [
    "a = 10\n",
    "b = 100.88\n",
    "print(type(b))\n",
    "print(type(a))  # Outputs: <class 'int'>\n"
   ]
  },
  {
   "cell_type": "code",
   "execution_count": 11,
   "metadata": {},
   "outputs": [
    {
     "data": {
      "text/plain": [
       "'/home/dickens'"
      ]
     },
     "execution_count": 11,
     "metadata": {},
     "output_type": "execute_result"
    }
   ],
   "source": [
    "%pwd\n"
   ]
  },
  {
   "cell_type": "code",
   "execution_count": 4,
   "metadata": {},
   "outputs": [
    {
     "name": "stdout",
     "output_type": "stream",
     "text": [
      "5\n",
      "Hello\n"
     ]
    }
   ],
   "source": [
    "# Variable assignment\n",
    "x = 5\n",
    "y = \"Hello\"\n",
    "\n",
    "print(x)  # Outputs: 5\n",
    "print(y)  # Outputs: Hello\n"
   ]
  },
  {
   "cell_type": "code",
   "execution_count": 34,
   "metadata": {},
   "outputs": [
    {
     "name": "stdout",
     "output_type": "stream",
     "text": [
      "<class 'list'>\n",
      "1\n",
      "[1, 2, 3, 4, 5, 6, 7, 8, 9, 6]\n",
      "['apple', 'banana', 'cherry']\n",
      "['apple', 'banana', 'cherry', 'Matooke']\n",
      "banana\n",
      "cherry\n",
      "apple\n",
      "['cherry', 'orange', 'kiwi']\n",
      "['apple', 'banana', 'cherry', 'orange']\n",
      "['cherry', 'orange', 'kiwi', 'melon', 'mango']\n",
      "['apple', 'blackcurrant', 'cherry', 'orange', 'kiwi', 'melon', 'mango']\n",
      "['apple', 'blackcurrant', 'watermelon', 'orange', 'kiwi', 'melon', 'mango']\n"
     ]
    }
   ],
   "source": [
    "#LISTS\n",
    "my_list = [1, 2, 3, 4, 5,6,7,8,9]\n",
    "print(type(my_list))  # Outputs: <class 'list'>\n",
    "print(my_list[0])  # Outputs: 1 (indexing)\n",
    "my_list.append(6)  # Adds 6 to the end of the list\n",
    "print(my_list)  # Outputs: [1, 2, 3, 4, 5, 6]\n",
    "\n",
    "\n",
    "#List part \n",
    "thislist = [\"apple\", \"banana\", \"cherry\"]\n",
    "print(thislist)\n",
    "thislist.append(\"Matooke\")\n",
    "print(thislist)\n",
    "\n",
    "#access contents\n",
    "#positive indexing\n",
    "thislist = [\"apple\", \"banana\", \"cherry\"]\n",
    "print(thislist[1])\n",
    "\n",
    "\n",
    "\n",
    "\n",
    "#Negative indexing\n",
    "print(thislist[-1])#last item last an index of -1\n",
    "print(thislist[-3])\n",
    "\n",
    "\n",
    "\n",
    "\n",
    "\n",
    "#Range of Indexes\n",
    "thislist = [\"apple\", \"banana\", \"cherry\", \"orange\", \"kiwi\", \"melon\", \"mango\"]\n",
    "print(thislist[2:5])#The search will start at index 2 (included) and end at index 5 (not included).\n",
    "\n",
    "print(thislist[:4])#prints up to index4\n",
    "\n",
    "print(thislist[2:])#prints from index 2 to the end of the list\n",
    "\n",
    "\n",
    "\n",
    "\n",
    "\n",
    "thislist[1] = \"blackcurrant\"\n",
    "print(thislist)#Change the second item:\n",
    "\n",
    "\n",
    "#Change a Range of Item Values\n",
    "thislist[1:3] = [\"blackcurrant\", \"watermelon\"]\n",
    "print(thislist)\n",
    "\n",
    "\n",
    "\n",
    "\n"
   ]
  },
  {
   "cell_type": "code",
   "execution_count": 3,
   "metadata": {},
   "outputs": [
    {
     "name": "stdout",
     "output_type": "stream",
     "text": [
      "5\n",
      "Hello\n"
     ]
    }
   ],
   "source": [
    "# Variable assignment\n",
    "x = 5\n",
    "y = \"Hello\"\n",
    "\n",
    "print(x)  # Outputs: 5\n",
    "print(y)  # Outputs: Hello\n"
   ]
  },
  {
   "cell_type": "code",
   "execution_count": null,
   "metadata": {},
   "outputs": [],
   "source": []
  }
 ],
 "metadata": {
  "kernelspec": {
   "display_name": "Python 3",
   "language": "python",
   "name": "python3"
  },
  "language_info": {
   "codemirror_mode": {
    "name": "ipython",
    "version": 3
   },
   "file_extension": ".py",
   "mimetype": "text/x-python",
   "name": "python",
   "nbconvert_exporter": "python",
   "pygments_lexer": "ipython3",
   "version": "3.7.6"
  }
 },
 "nbformat": 4,
 "nbformat_minor": 4
}
